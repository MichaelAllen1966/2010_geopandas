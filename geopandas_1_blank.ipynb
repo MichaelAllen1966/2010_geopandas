{
 "cells": [
  {
   "cell_type": "markdown",
   "metadata": {},
   "source": [
    "# Demonstration of GeoPandas\n",
    "\n",
    "GeoPandas is a powerful Python Package for manipulating and plotting geographical data. In this notebook we will cover:\n",
    "\n",
    "1. GeoPandas installation\n",
    "1. Creating a GeoPandas DataFrame from a standard geographic file format.\n",
    "1. Setting the crs (Coordinate Reference System).\n",
    "1. Creating a map from the GeoPandas DataFrame.\n",
    "1. Merging geographical areas.\n",
    "1. Selecting small areas within a larger area.\n",
    "1. Handling point data.\n",
    "1. Converting geography between BNG (British National Grid Eastings and Northings) and Latitude/Longitude.\n",
    "1. Creating cusomizable maps with MatPlotLib\n",
    "\n",
    "For areas we most commonly use shape files. The frequently come as a Zip file with the shape file and other metadata files. The repository for this notebook (https://github.com/michaelallen1966/2010_geopandas) contains all the necessary files. UK government pages to download these files tend to move around! At the time of writing the full England shape file download may be found at:\n",
    "\n",
    "https://geoportal.statistics.gov.uk/datasets/lower-layer-super-output-areas-december-2011-boundaries-ew-bsc"
   ]
  },
  {
   "cell_type": "markdown",
   "metadata": {},
   "source": [
    "## Installation\n",
    "\n",
    "It is recommended that you install the environment as instructed in the README for this GitHub repository. You may also install packages manually ina current environment, though this method risks contability problems with your current environment. To install manually:\n",
    "\n",
    "```\n",
    "conda install geopandas pysal\n",
    "conda install -c conda-forge geoplot\n",
    "pip install contextily mapclassify\n",
    "```\n",
    "\n",
    "Alternative save the following as a file titled `environment.yml`:\n",
    "\n",
    "```\n",
    "name: geopandas\n",
    "channels:\n",
    "  - defaults\n",
    "  - conda-forge\n",
    "dependencies:\n",
    "  - geopandas\n",
    "  - geoplot\n",
    "  - jupyterlab\n",
    "  - pysal\n",
    "  - pip\n",
    "  - pip:\n",
    "    - contextily\n",
    "    - mapclassify\n",
    "```\n",
    "\n",
    "Then, from the folder where that yml file is, type the following into a terminal/command line: \n",
    "\n",
    "`conda env create -f environment.yml`\n",
    "\n",
    "And then activate the environment with:\n",
    "\n",
    "`conda activate geopandas`\n",
    "\n",
    "And then launch Jupyter Lab with:\n",
    "\n",
    "`jupyter-lab`\n"
   ]
  },
  {
   "cell_type": "markdown",
   "metadata": {},
   "source": [
    "## Import modules"
   ]
  },
  {
   "cell_type": "code",
   "execution_count": null,
   "metadata": {},
   "outputs": [],
   "source": [
    "import contextily as ctx\n",
    "import geopandas\n",
    "import matplotlib.pyplot as plt\n",
    "import pandas as pd"
   ]
  },
  {
   "cell_type": "markdown",
   "metadata": {},
   "source": [
    "## Load LSOA shape file\n",
    "\n",
    "The following will load the shape file of the South West of England LSOA (Lower Super Output Areas) into a GeoPandas DataFrame. Note that we can set the crs (Coordinate Reference System) when loading a GeoPandas DataFrame. EPSG:27700 is the crs to use when geography is in BNG (British National Grid Eastings and Northings).\n",
    "\n",
    "* EPSG:27700 OSGB 1936 / British National Grid -- United Kingdom Ordnance Survey. Co-ordinates are in Eastings (X) and Northings (Y).\n",
    "* EPSG:4326 WGS 84 -- WGS84 - World Geodetic System 1984. Co-ordinates are in Longitude (X) and Latitude (Y).\n",
    "\n",
    "This file is a manually clipped section of the South West of England. In this notebook we will restrict it to Devon and Cornwall."
   ]
  },
  {
   "cell_type": "code",
   "execution_count": null,
   "metadata": {},
   "outputs": [],
   "source": [
    "# Import England LSAO Shape file (use 'zip://'' prefic for zip files)\n",
    "filename = \"zip://./data/south_west_lsoa.zip\"\n",
    "lsoa_gdf = geopandas.read_file(filename, crs='EPSG:27700')"
   ]
  },
  {
   "cell_type": "markdown",
   "metadata": {},
   "source": [
    "A GeoPandas DataFrame has a 'geometry' column which contains the geographical details used for plotting and other geographic methos."
   ]
  },
  {
   "cell_type": "code",
   "execution_count": null,
   "metadata": {},
   "outputs": [],
   "source": [
    "lsoa_gdf.head(3)"
   ]
  },
  {
   "cell_type": "markdown",
   "metadata": {},
   "source": [
    "We can create a simple lot using the `plot()` method for the Geopandas DataFrame."
   ]
  },
  {
   "cell_type": "code",
   "execution_count": null,
   "metadata": {},
   "outputs": [],
   "source": [
    "lsoa_gdf.plot(figsize=(8,8));"
   ]
  },
  {
   "cell_type": "markdown",
   "metadata": {},
   "source": [
    "## Using Spatial Relationship methods to select data lower super output areas in Devon or Cornwall\n",
    "\n",
    "Here we will find LSOAs that are within the counties of Devon and Cornwall.\n",
    "\n",
    "We will start by loading a file of geography for counties and unitary authorities."
   ]
  },
  {
   "cell_type": "code",
   "execution_count": null,
   "metadata": {},
   "outputs": [],
   "source": [
    "# Import County boundary shape file\n",
    "filename = \"zip://./data/Counties_and_Unitary_Authorities__December_2017\" + \\\n",
    "    \"__Boundaries_UK-shp.zip\"\n",
    "counties_gdf = geopandas.read_file(filename)\n",
    "counties_gdf = counties_gdf.set_crs(epsg=27700)"
   ]
  },
  {
   "cell_type": "code",
   "execution_count": null,
   "metadata": {},
   "outputs": [],
   "source": [
    "filename"
   ]
  },
  {
   "cell_type": "code",
   "execution_count": null,
   "metadata": {},
   "outputs": [],
   "source": [
    "counties_gdf.head()"
   ]
  },
  {
   "cell_type": "markdown",
   "metadata": {},
   "source": [
    "We can see the boundries woth the `plot()` method."
   ]
  },
  {
   "cell_type": "code",
   "execution_count": null,
   "metadata": {},
   "outputs": [],
   "source": [
    "counties_gdf.plot(figsize=(8,8));"
   ]
  },
  {
   "cell_type": "markdown",
   "metadata": {},
   "source": [
    "### Lambda functions\n",
    "\n",
    "Take a break and watch a 6 minute video on Lambda functions:\n",
    "\n",
    "https://youtu.be/25ovCm9jKfA"
   ]
  },
  {
   "cell_type": "markdown",
   "metadata": {},
   "source": [
    "### Finding the Devon and Cornwall data\n",
    "\n",
    "The first thing we need to do is to idenitify the rows in the DataFrame that are in Cornwall and Devon. We can't just use county names as we must also include the unitary authorities 'Plymouth' and 'Torbay'.\n",
    "\n",
    "The best way to apply a 'by row' function in DataFrames is to use the `map()` method. This applies a given function to all rows in a DataFrame. To check whether a value is in a list we need to apply a short function. As the function is simple we can use a *lambda* function as shown below."
   ]
  },
  {
   "cell_type": "code",
   "execution_count": null,
   "metadata": {},
   "outputs": [],
   "source": [
    "# Identify rows that are Devon or Cornwall (use Pandas map lambda function)\n",
    "devon_cornwall = \\\n",
    "    counties_gdf['ctyua17nm'].map(\n",
    "        lambda x: x in ['Devon', 'Cornwall', 'Plymouth', 'Torbay'])"
   ]
  },
  {
   "cell_type": "code",
   "execution_count": null,
   "metadata": {},
   "outputs": [],
   "source": [
    "devon_cornwall"
   ]
  },
  {
   "cell_type": "code",
   "execution_count": null,
   "metadata": {},
   "outputs": [],
   "source": [
    "devon_cornwall.sum()"
   ]
  },
  {
   "cell_type": "code",
   "execution_count": null,
   "metadata": {},
   "outputs": [],
   "source": [
    "# Add new column to DataFrame. This will be a booelan (True/False) column\n",
    "counties_gdf['devon_cornwall'] = devon_cornwall"
   ]
  },
  {
   "cell_type": "code",
   "execution_count": null,
   "metadata": {},
   "outputs": [],
   "source": [
    "counties_gdf.head()"
   ]
  },
  {
   "cell_type": "code",
   "execution_count": null,
   "metadata": {},
   "outputs": [],
   "source": [
    "mask = counties_gdf['devon_cornwall'] == True"
   ]
  },
  {
   "cell_type": "code",
   "execution_count": null,
   "metadata": {},
   "outputs": [],
   "source": [
    "dc = counties_gdf.loc[mask]"
   ]
  },
  {
   "cell_type": "code",
   "execution_count": null,
   "metadata": {},
   "outputs": [],
   "source": [
    "dc"
   ]
  },
  {
   "cell_type": "markdown",
   "metadata": {},
   "source": [
    "## Merging areas together"
   ]
  },
  {
   "cell_type": "markdown",
   "metadata": {},
   "source": [
    "Now we are going to merge LSOAs by whetehr they are in Devon and Cornwall or not (we can merge on any column in order to combine areas). This will create a new DataFrame. To merge areas we use the `dissolve()` method.\n",
    "\n",
    "https://geopandas.org/aggregation_with_dissolve.html"
   ]
  },
  {
   "cell_type": "code",
   "execution_count": null,
   "metadata": {},
   "outputs": [],
   "source": [
    "merged_gdf = counties_gdf.dissolve(by='devon_cornwall')\n",
    "merged_gdf"
   ]
  },
  {
   "cell_type": "markdown",
   "metadata": {},
   "source": [
    "Now we select just the geometry Devon and Cornwall row, This has an index value of 'True'."
   ]
  },
  {
   "cell_type": "code",
   "execution_count": null,
   "metadata": {},
   "outputs": [],
   "source": [
    "dc_geometry = merged_gdf.loc[True].geometry"
   ]
  },
  {
   "cell_type": "markdown",
   "metadata": {},
   "source": [
    "Jupyter will display the geometry of a single geometry zone:"
   ]
  },
  {
   "cell_type": "code",
   "execution_count": null,
   "metadata": {},
   "outputs": [],
   "source": [
    "dc_geometry"
   ]
  },
  {
   "cell_type": "markdown",
   "metadata": {},
   "source": [
    "### Spatial relationships\n",
    "\n",
    "GeoPandas can perorm a range of spacial relational test such as those shown in the figure and table below (from https://en.wikipedia.org/wiki/Spatial_relation).\n",
    "\n",
    "![](./images/spatial_fig.png)\n",
    "\n",
    "![](./images/spatial_table.png)\n",
    "\n"
   ]
  },
  {
   "cell_type": "markdown",
   "metadata": {},
   "source": [
    "To get all LSOA in Devon or Cornwall we need to apply a test for `overlaps` or `within` (as `within` will miss those LSOA that are share a boundary with the Devon and Cornwall region. In Pandas we use `|` for `or`."
   ]
  },
  {
   "cell_type": "code",
   "execution_count": null,
   "metadata": {},
   "outputs": [],
   "source": [
    "# Check for LSOA overlapping with, or completely within, Devon & Cornwall\n",
    "mask = (lsoa_gdf.overlaps(dc_geometry)) | (lsoa_gdf.within(dc_geometry))"
   ]
  },
  {
   "cell_type": "code",
   "execution_count": null,
   "metadata": {},
   "outputs": [],
   "source": [
    "mask"
   ]
  },
  {
   "cell_type": "code",
   "execution_count": null,
   "metadata": {},
   "outputs": [],
   "source": [
    "# Create new Geopands DataFrame by applying mask\n",
    "devon_cornwall_lsoa = lsoa_gdf.loc[mask]"
   ]
  },
  {
   "cell_type": "code",
   "execution_count": null,
   "metadata": {},
   "outputs": [],
   "source": [
    "devon_cornwall_lsoa.head()"
   ]
  },
  {
   "cell_type": "code",
   "execution_count": null,
   "metadata": {},
   "outputs": [],
   "source": [
    "# Show map of new DataFrame\n",
    "devon_cornwall_lsoa.plot();"
   ]
  },
  {
   "cell_type": "markdown",
   "metadata": {},
   "source": [
    "## Loading point data (hospitals) and selecting those in Devon and Cornwall.\n",
    "\n",
    "We will load up a CSV file with hospital (acute stroke unit) data and create a geometry column from exisiting location data. This time our location data uses  Longitude and Latitute. For this we will use a different crs, namely EPSG:4326 (alo known as WGS84). This is a global reference system for Long/Lat. We will demonstrate an alternative way of setting crs, setting it *after* we have created the GeoPandas DataFrame. "
   ]
  },
  {
   "cell_type": "code",
   "execution_count": null,
   "metadata": {},
   "outputs": [],
   "source": [
    "# Load hospital data in GeoPandas DataFrame\n",
    "hospitals_gdf = geopandas.read_file('./data/hosp_107.csv')\n",
    "# Set geometry (note longitude comes first as GeoPandas expects x/y geometry)\n",
    "hospitals_gdf.geometry = geopandas.points_from_xy(\n",
    "        hospitals_gdf.long, hospitals_gdf.lat)\n",
    "# Set crs for geometry, using epsg4326 for lat/long\n",
    "hospitals_gdf = hospitals_gdf.set_crs(epsg=4326)\n",
    "hospitals_gdf.head()"
   ]
  },
  {
   "cell_type": "markdown",
   "metadata": {},
   "source": [
    "We now convert crs from Lat/long to the BNG (EPSG 27700) we have been using in the LSOA DataFrame."
   ]
  },
  {
   "cell_type": "code",
   "execution_count": null,
   "metadata": {},
   "outputs": [],
   "source": [
    "hospitals_gdf = hospitals_gdf.to_crs(epsg=27700)"
   ]
  },
  {
   "cell_type": "markdown",
   "metadata": {},
   "source": [
    "Notice how the geometry column has changed:"
   ]
  },
  {
   "cell_type": "code",
   "execution_count": null,
   "metadata": {},
   "outputs": [],
   "source": [
    "hospitals_gdf.head()"
   ]
  },
  {
   "cell_type": "markdown",
   "metadata": {},
   "source": [
    "Identify hospitals `within` the Devon and Cornwall geometry zone we created earlier."
   ]
  },
  {
   "cell_type": "code",
   "execution_count": null,
   "metadata": {},
   "outputs": [],
   "source": [
    "hospitals_gdf.plot();"
   ]
  },
  {
   "cell_type": "code",
   "execution_count": null,
   "metadata": {},
   "outputs": [],
   "source": [
    "mask = hospitals_gdf.within(dc_geometry)\n",
    "dc_hospitals = hospitals_gdf.loc[mask]\n",
    "dc_hospitals"
   ]
  },
  {
   "cell_type": "markdown",
   "metadata": {},
   "source": [
    "## Bring in travel times to closest hospital\n",
    "\n",
    "We will load data on travel times from each LSOA to their closest acute stroke unit. The DataFrame `merge` method is used to merge this into our GeoPandas DataFrame."
   ]
  },
  {
   "cell_type": "code",
   "execution_count": null,
   "metadata": {},
   "outputs": [],
   "source": [
    "# Import table of travel times from LSOA to closest stroke unit\n",
    "travel_time = pd.read_csv('./data/lsoa_107_ivt.csv')"
   ]
  },
  {
   "cell_type": "code",
   "execution_count": null,
   "metadata": {},
   "outputs": [],
   "source": [
    "travel_time.head()"
   ]
  },
  {
   "cell_type": "code",
   "execution_count": null,
   "metadata": {},
   "outputs": [],
   "source": [
    "# Merge data\n",
    "devon_cornwall_lsoa = devon_cornwall_lsoa.merge(\n",
    "    travel_time, left_on='lsoa11nm', right_on='area', how='left')"
   ]
  },
  {
   "cell_type": "code",
   "execution_count": null,
   "metadata": {},
   "outputs": [],
   "source": [
    "devon_cornwall_lsoa.head()"
   ]
  },
  {
   "cell_type": "markdown",
   "metadata": {},
   "source": [
    "## Mapping data with MatPlotLib\n",
    "\n",
    "Using MatPlotLib gives us mreo power than the GeoPandas DataFrame `plot` method."
   ]
  },
  {
   "cell_type": "code",
   "execution_count": null,
   "metadata": {},
   "outputs": [],
   "source": [
    "fig, ax = plt.subplots(figsize=(10, 10)) # Make max dimensions 10x10 inch\n",
    "devon_cornwall_lsoa.plot(ax=ax, # Set which axes to use for plot (only one here)\n",
    "                 column='time_to_thrombolysis_unit', # Column to apply colour\n",
    "                 antialiased=False, # Avoids artifact boundry lines\n",
    "                 edgecolor='face', # Make LSOA boundry same colour as area\n",
    "                 vmin=0, # Manual scale min (remove to make automatic)\n",
    "                 vmax=70, # Manual scale max (remove to make automatic)\n",
    "                 cmap='inferno_r', # Colour map to use\n",
    "                 # Adjust size of colourmap key, and add label\n",
    "                 legend_kwds={'shrink':0.5, 'label':'Travel time (mins)'},\n",
    "                 # Set to display legend\n",
    "                 legend=True)\n",
    "ax.set_axis_off() # Turn of axis linea dn numbers\n",
    "plt.savefig('map.jpg', dpi=300) # Save figure\n",
    "plt.show()"
   ]
  },
  {
   "cell_type": "markdown",
   "metadata": {},
   "source": [
    "Repeat, but display hospitals as an extra plot using `ax` as axis. We will add hospital name (just postcode here), and use contexity to add a base map."
   ]
  },
  {
   "cell_type": "code",
   "execution_count": null,
   "metadata": {},
   "outputs": [],
   "source": [
    "fig, ax = plt.subplots(figsize=(10, 10)) # Make max dimensions 10x10 inch\n",
    "# Plot travel times for each LSOA\n",
    "devon_cornwall_lsoa.plot(ax=ax, # Set which axes to use for plot (only one here)\n",
    "        column='time_to_thrombolysis_unit', # Column to apply colour\n",
    "        # antialiased=False, # Avoids artifact boundry lines\n",
    "        edgecolor='face', # Make LSOA boundry same colour as area\n",
    "        linewidth=0.0,# Use linewidth=0 to hide boarder lines\n",
    "        vmin=0, # Manual scale min (remove to make automatic)\n",
    "        vmax=70, # Manual scale max (remove to make automatic)\n",
    "        cmap='inferno_r', # Coloour map to use\n",
    "        # Adjust size of colourmap key, and add label\n",
    "        legend_kwds={'shrink':0.4, 'label':'Travel time (mins)'},\n",
    "        # Set to display legend\n",
    "        legend=True,\n",
    "        # Set transparancy (to help reveal basemap)\n",
    "        alpha = 0.70)\n",
    "\n",
    "# Plot location of hospitals\n",
    "dc_hospitals.plot(ax=ax, edgecolor='k', facecolor='w', markersize=200, \n",
    "                  marker='*')\n",
    "# Add labels\n",
    "for x, y, label in zip(\n",
    "    dc_hospitals.geometry.x, dc_hospitals.geometry.y, dc_hospitals.hospital):\n",
    "        ax.annotate(label, xy=(x, y), xytext=(8, 8), textcoords=\"offset points\",\n",
    "                    backgroundcolor=\"w\", fontsize=8)\n",
    "        \n",
    "# Add base map (note that we specifiy thr same CRS as we are using)\n",
    "# Use manual zoom to adjust level of detail of base map\n",
    "ctx.add_basemap(ax, \n",
    "                crs='EPSG:27700',\n",
    "                source=ctx.providers.OpenStreetMap.Mapnik,zoom=10)\n",
    "    \n",
    "ax.set_axis_off() # Turn of axis line numbers\n",
    "ax.set_title('Travel time (minutes) to closest acute stroke unit')\n",
    "# Adjust for printing\n",
    "ax.margins(0)\n",
    "ax.apply_aspect()\n",
    "plt.subplots_adjust(left=0.01, right=1.0, bottom=0.0, top=1.0)\n",
    "# Save figure\n",
    "plt.savefig('map.jpg', dpi=300)\n",
    "plt.show()"
   ]
  },
  {
   "cell_type": "markdown",
   "metadata": {},
   "source": [
    "# For fun?\n",
    "## Hospitals and train lines"
   ]
  },
  {
   "cell_type": "code",
   "execution_count": null,
   "metadata": {},
   "outputs": [],
   "source": [
    "fig, ax = plt.subplots(figsize=(10, 10)) # Make max dimensions 10x10 inch\n",
    "\n",
    "# Add Devon & Cornwall LSOA\n",
    "devon_cornwall_lsoa.plot(ax=ax, alpha=0.5)\n",
    "\n",
    "# Plot location of hospitals\n",
    "dc_hospitals.plot(ax=ax, edgecolor='k', facecolor='w', markersize=200, \n",
    "                  marker='*')\n",
    "ctx.add_basemap(ax, \n",
    "                crs='EPSG:27700',\n",
    "                source=ctx.providers.OpenRailwayMap,\n",
    "                alpha=0.5)\n",
    "\n",
    "plt.show()"
   ]
  },
  {
   "cell_type": "markdown",
   "metadata": {},
   "source": [
    "## Combining elements"
   ]
  },
  {
   "cell_type": "code",
   "execution_count": null,
   "metadata": {},
   "outputs": [],
   "source": [
    "fig, ax = plt.subplots(figsize=(12,12)) # Make max dimensions 10x10 inch\n",
    "\n",
    "# Plot location of hospitals\n",
    "dc_hospitals.plot(ax=ax, edgecolor='k', facecolor='r', markersize=300, \n",
    "                  marker='*')\n",
    "\n",
    "# Plot Devon and Cornwall LSOA\n",
    "devon_cornwall_lsoa.plot(ax=ax, alpha=0.1)\n",
    "\n",
    "ctx.add_basemap(ax, \n",
    "                crs='EPSG:27700',\n",
    "                source=ctx.providers.OpenStreetMap.Mapnik, alpha=0.8)\n",
    "\n",
    "ctx.add_basemap(ax, \n",
    "                crs='EPSG:27700',\n",
    "                source=ctx.providers.OpenRailwayMap, alpha=0.3)\n",
    "\n",
    "\n",
    "plt.show()"
   ]
  },
  {
   "cell_type": "markdown",
   "metadata": {},
   "source": [
    "## List of all map providers"
   ]
  },
  {
   "cell_type": "code",
   "execution_count": null,
   "metadata": {},
   "outputs": [],
   "source": [
    "providers = {}\n",
    "\n",
    "def get_providers(provider):\n",
    "    if \"url\" in provider:\n",
    "        providers[provider['name']] = provider\n",
    "    else:\n",
    "        for prov in provider.values():\n",
    "            get_providers(prov)\n",
    "\n",
    "get_providers(ctx.providers)"
   ]
  },
  {
   "cell_type": "code",
   "execution_count": null,
   "metadata": {},
   "outputs": [],
   "source": [
    "providers"
   ]
  }
 ],
 "metadata": {
  "kernelspec": {
   "display_name": "Python 3",
   "language": "python",
   "name": "python3"
  },
  "language_info": {
   "codemirror_mode": {
    "name": "ipython",
    "version": 3
   },
   "file_extension": ".py",
   "mimetype": "text/x-python",
   "name": "python",
   "nbconvert_exporter": "python",
   "pygments_lexer": "ipython3",
   "version": "3.8.5"
  }
 },
 "nbformat": 4,
 "nbformat_minor": 4
}
